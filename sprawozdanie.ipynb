{
 "cells": [
  {
   "cell_type": "markdown",
   "metadata": {},
   "source": [
    "# <center>Laboratorium 5<br>Metody Numeryczne</center>"
   ]
  },
  {
   "cell_type": "markdown",
   "metadata": {},
   "source": [
    "Instrukcja:  \n",
    "Na zajęciach należy wykonać poniższe zadania, a następnie sporządzić sprawozdanie zawierające odpowiedzi (w postaci kodu) z komentarzami w środowisku Jupyter Notebook i umieścić je na platformie e-learningowej."
   ]
  },
  {
   "cell_type": "markdown",
   "metadata": {},
   "source": [
    "***Materiały przygotowujące:***\n"
   ]
  },
  {
   "cell_type": "code",
   "execution_count": 7,
   "metadata": {},
   "outputs": [],
   "source": [
    "import main\n",
    "import numpy as np\n",
    "import scipy\n",
    "import matplotlib\n",
    "import matplotlib.pyplot as plt\n",
    "\n",
    "def PolyCoefficients(x, coeffs):\n",
    "    \"\"\" Returns a polynomial for ``x`` values for the ``coeffs`` provided.\n",
    "    The coefficients must be in ascending order (``x**0`` to ``x**o``).\n",
    "    \"\"\"\n",
    "    o = len(coeffs)\n",
    "    y = 0\n",
    "    for i in range(o):\n",
    "        y += coeffs[i]*x**i\n",
    "    return y"
   ]
  },
  {
   "cell_type": "markdown",
   "metadata": {},
   "source": [
    "***Zadanie 1.***  \n",
    "Zaimplementuj interpolacje pierwszego stopnia. Jako dane wejściowe dane są dwa wektory: argumentów oraz wartości funkcji. Funkcja ma zwracać współczynniki funkcji liniowych w poszczególnych przedziałach.\n",
    "\n",
    "***Podpowiedź***\n",
    "\n",
    "poszczególne współczynniki przyjmują wartość:\n",
    "\n",
    "$ a_k=\\frac{y_{k+1}-y_k}{x_{k+1}-x_k}$\n",
    "\n",
    "$ b_k=y_k-a_k*x_k$\n",
    "\n",
    "***Przykład***\n"
   ]
  },
  {
   "cell_type": "code",
   "execution_count": 2,
   "metadata": {},
   "outputs": [
    {
     "name": "stdout",
     "output_type": "stream",
     "text": [
      "# This is a polynomial of order <built-in function ord>.\n",
      "# This is a polynomial of order <built-in function ord>.\n"
     ]
    },
    {
     "data": {
      "image/png": "[encoded data removed]",
      "text/plain": [
       "<Figure size 432x288 with 1 Axes>"
      ]
     },
     "metadata": {
      "needs_background": "light"
     },
     "output_type": "display_data"
    }
   ],
   "source": [
    "x=np.array([1,2,3])\n",
    "y=np.array([5,7,6])\n",
    "\n",
    "a,b=main.first_spline(x,y)\n",
    "f = [[b[i],a[i]] for i in range(len(a))]\n",
    "\n",
    "for i in range(len(x)-1):\n",
    "    x_new = np.linspace(x[i], x[i+1],1000)\n",
    "    plt.plot(x_new, PolyCoefficients(x_new, f[i]))"
   ]
  },
  {
   "cell_type": "markdown",
   "metadata": {},
   "source": [
    "***Zadanie 2.***  \n",
    "Korzystając z funkcji z pakietu [scipy.interpolate.splprep](https://docs.scipy.org/doc/scipy/reference/generated/scipy.interpolate.splprep.html#scipy.interpolate.splprep), funkcji zaimplementowanej w Zadaniu 1 oraz interpolacji barycentrycznej z węzłami równoodległymi (korzystając z kodu z poprzedniego zadania) dokonaj interpolacji funkcji: \n",
    "    \n",
    "### $ f(x) = \\frac{1}{25x^2+1}$\n",
    "\n",
    "W przedziale \\[-1, 1\\]\n",
    "\n",
    "dla różnych ilości wartości węzłów: 5, 10, 15, 20, 50, 100, 1000\n",
    "\n",
    "Dokonaj porównania wyników otrzymanych:  \n",
    "Wykorzystując funkcję z ubiegłego tygodnia, ocenić jakość interpolacji funkcji spline pierwszego stopnia z wartościami danej funkcji.\n",
    "Sprawdź czas wykonywania się poszczególnych elementów oraz ilość pamięci użytej \n"
   ]
  },
  {
   "cell_type": "markdown",
   "metadata": {},
   "source": [
    "***Zadanie 3.***  \n",
    "Korzystając z funkcji z pakietu [scipy.interpolate.splprep](https://docs.scipy.org/doc/scipy/reference/generated/scipy.interpolate.splprep.html#scipy.interpolate.splprep), funkcji zaimplementowanej w Zadaniu 1 oraz interpolacji barycentrycznej z węzłami równoodległymi (korzystając z kodu z poprzedniego zadania) dokonaj interpolacji funkcji: \n",
    "    \n",
    "### $ f(x) = cos(x)x^4$\n",
    "\n",
    "W przedziale \\[-1, 1\\]\n",
    "\n",
    "dla różnych ilości wartości węzłów: 5, 10, 15, 20, 50, 100, 1000\n",
    "\n",
    "Dokonaj porównania wyników otrzymanych:  \n",
    "Wykorzystując funkcję z ubiegłego tygodnia, ocenić jakość interpolacji funkcji spline pierwszego stopnia z wartościami danej funkcji.\n",
    "Sprawdź czas wykonywania się poszczególnych elementów oraz ilość pamięci użytej \n"
   ]
  },
  {
   "cell_type": "markdown",
   "metadata": {},
   "source": [
    "***Zadanie 4.***  \n",
    "Zaimplementuj funkcję interpolującą sklejaną trzeciego rzędu (splajn kubiczny). Jako dane wejściowe dane są dwa wektory: argumentów oraz wartości funkcji. Funkcja ma zwracać współczynniki funkcji wielomianowych w poszczególnych przedziałach.\n",
    "\n",
    "***Podpowiedź***\n",
    "\n",
    "wprowadzimy następujące zmienne:\n",
    "\n",
    "$b_0 = y_k$\n",
    "\n",
    "$b_1 = d_k - \\frac{h_k}{6}(2m_k+m_{k+1})$\n",
    "\n",
    "$b_2 = \\frac{m_k}{2}$\n",
    "\n",
    "$b_3 = \\frac{m_{k+1}-m_k}{6h_k}$\n",
    "\n",
    "gdzie:\n",
    "\n",
    "$h_k = x_{k+1} - x_k$\n",
    "\n",
    "$d_k = y_{k+1} - y_k$\n",
    "\n",
    "$m_k = 3\\frac{d_k-d_{k-1}}{h_{k-1}+h_k} - \\frac{m_{k-1}*\\rho_k}{2}-\\frac{m_{k+1}*\\lambda_k}{2}$\n",
    "\n",
    "$\\lambda_k = \\frac{h_k}{h_{k-1}+h_k}$\n",
    "\n",
    "$\\rho_k = \\frac{h_{k-1}}{h_{k-1}+h_k}$\n",
    "\n",
    "dzieki temi współczynniki możemy wyznaczyć w następującyu sposób:\n",
    "\n",
    "$a_3 = b_3$\n",
    "\n",
    "$a_2 = b_2 - 3*b_3*x_k$\n",
    "\n",
    "$a_1 = b1 - 2*b_2*x_k + 3*b_3*x_k*x_k$\n",
    "\n",
    "$a_0 = b_0 - b_1*x_k + b_2*x_k*x_k - b_3*x_k*x_k*x_k$\n",
    "\n",
    "Do wyznaczenia $m_0$ oraz $m_n$ wykorzystujemy metodę ograniczeń naturalnych i przyjmujemy te wartości jako zerowe.\n",
    "Jako wektor $m_k$ przyjmij początkowo zera np.zeros.\n",
    "\n",
    "***Przykład***"
   ]
  },
  {
   "cell_type": "code",
   "execution_count": 3,
   "metadata": {},
   "outputs": [
    {
     "name": "stdout",
     "output_type": "stream",
     "text": [
      "# This is a polynomial of order <built-in function ord>.\n",
      "# This is a polynomial of order <built-in function ord>.\n"
     ]
    },
    {
     "data": {
      "image/png": "[encoded data removed]",
      "text/plain": [
       "<Figure size 432x288 with 1 Axes>"
      ]
     },
     "metadata": {
      "needs_background": "light"
     },
     "output_type": "display_data"
    }
   ],
   "source": [
    "x=np.array([1,2,3])\n",
    "y=np.array([5,7,6])\n",
    "\n",
    "\n",
    "a0,a1,a2,a3 = main.cubic_spline(x,y)\n",
    "f = [[a0[i],a1[i],a2[i],a3[i]] for i in range(len(a))]\n",
    "\n",
    "\n",
    "for i in range(len(x)-1):\n",
    "    x_new = np.linspace(x[i], x[i+1],1000)\n",
    "    plt.plot(x_new, PolyCoefficients(x_new, f[i]))"
   ]
  },
  {
   "cell_type": "markdown",
   "metadata": {},
   "source": [
    "***Zadania 5.***  \n",
    "Korzystając z funkcji z pakietu [scipy.interpolate.splprep](https://docs.scipy.org/doc/scipy/reference/generated/scipy.interpolate.splprep.html#scipy.interpolate.splprep), funkcji zaimplementowanej w Zadaniu 4: \n",
    "    \n",
    "### $ f(x) = \\frac{1}{25x^2+1}$\n",
    "\n",
    "W przedziale \\[-1, 1\\]\n",
    "\n",
    "dla różnych ilości wartości węzłów: 50, 100, 1000\n",
    "\n",
    "Dokonaj porównania wyników otrzymanych:  \n",
    "Wykorzystując funkcję z ubiegłego tygodnia, ocenić jakość interpolacji funkcji spline pierwszego stopnia z wartościami danej funkcji.\n",
    "Sprawdź czas wykonywania się poszczególnych elementów oraz ilość pamięci użytej \n"
   ]
  },
  {
   "cell_type": "markdown",
   "metadata": {},
   "source": [
    "***Zadanie 6.***  \n",
    "Korzystając z funkcji z pakietu [scipy.interpolate.splprep](https://docs.scipy.org/doc/scipy/reference/generated/scipy.interpolate.splprep.html#scipy.interpolate.splprep), funkcji zaimplementowanej w Zadaniu 4: \n",
    "    \n",
    "### $ f(x) = cos(x)x^4$\n",
    "\n",
    "W przedziale \\[-1, 1\\]\n",
    "\n",
    "dla różnych ilości wartości węzłów: 50, 100, 1000\n",
    "\n",
    "Dokonaj porównania wyników otrzymanych:  \n",
    "Wykorzystując funkcję z ubiegłego tygodnia, ocenić jakość interpolacji funkcji spline pierwszego stopnia z wartościami danej funkcji.\n",
    "Sprawdź czas wykonywania się poszczególnych elementów oraz ilość pamięci użytej \n"
   ]
  },
  {
   "cell_type": "markdown",
   "metadata": {},
   "source": [
    "***Zadanie 7.***  \n",
    "Dla funkcji:\n",
    "### $f(x) = |sin(5x)|^3$\n",
    "\n",
    "Porównać działanie funkcji zaimplementowanych w Zadaniu 1 oraz 4 dla różnych ilości wartości węzłów: 50, 100, 1000 oraz przedstawić wyniki na odpowiednich wykresach.\n",
    "\n"
   ]
  },
  {
   "cell_type": "code",
   "execution_count": null,
   "metadata": {},
   "outputs": [],
   "source": []
  }
 ],
 "metadata": {
  "kernelspec": {
   "display_name": "Python 3",
   "language": "python",
   "name": "python3"
  },
  "language_info": {
   "codemirror_mode": {
    "name": "ipython",
    "version": 3
   },
   "file_extension": ".py",
   "mimetype": "text/x-python",
   "name": "python",
   "nbconvert_exporter": "python",
   "pygments_lexer": "ipython3",
   "version": "3.7.7"
  }
 },
 "nbformat": 4,
 "nbformat_minor": 2
}
